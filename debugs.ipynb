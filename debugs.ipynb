{
 "cells": [
  {
   "cell_type": "code",
   "execution_count": 105,
   "metadata": {},
   "outputs": [
    {
     "name": "stdout",
     "output_type": "stream",
     "text": [
      "[['-', '-', '-', '-'], ['-', '-', '-', '-'], ['-', '-', '-', '-'], ['-', '-', '-', '-']]\n"
     ]
    }
   ],
   "source": [
    "ROWS = 4\n",
    "COLUMNS = 4\n",
    "DEFAULT_MARK = \"-\"\n",
    "\n",
    "MAX_DEPTH = 3\n",
    "\n",
    "this_board = [[DEFAULT_MARK] * COLUMNS for _ in range(ROWS)]\n",
    "mm = [[DEFAULT_MARK] * COLUMNS for _ in range(ROWS)]\n",
    "\n",
    "print(this_board)"
   ]
  },
  {
   "cell_type": "code",
   "execution_count": 106,
   "metadata": {},
   "outputs": [],
   "source": [
    "def Get_Mark(player: int) ->str:\n",
    "    symbol = {1: \"X\",\n",
    "              2: \"O\"}\n",
    "    return symbol.get(player)"
   ]
  },
  {
   "cell_type": "code",
   "execution_count": 107,
   "metadata": {},
   "outputs": [
    {
     "name": "stdout",
     "output_type": "stream",
     "text": [
      "[0, 1, 2, 3]\n"
     ]
    }
   ],
   "source": [
    "def possible_moves(board):\n",
    "    available_columns = []\n",
    "    for col in range(COLUMNS):\n",
    "        if board[ROWS-1][col] == DEFAULT_MARK:\n",
    "            available_columns += [col]\n",
    "    return available_columns\n",
    "\n",
    "print(possible_moves(this_board))"
   ]
  },
  {
   "cell_type": "code",
   "execution_count": 108,
   "metadata": {},
   "outputs": [
    {
     "name": "stdout",
     "output_type": "stream",
     "text": [
      "[['X', '-', '-', '-'], ['-', '-', '-', '-'], ['-', '-', '-', '-'], ['-', '-', '-', '-']]\n"
     ]
    }
   ],
   "source": [
    "def Set_Mark(board, column, player):\n",
    "    for row in range(ROWS):\n",
    "        if board[row][column] == DEFAULT_MARK:\n",
    "            board[row][column] = Get_Mark(player) \n",
    "            break\n",
    "    # return board\n",
    "\n",
    "Set_Mark(this_board, 0, 1)\n",
    "print(this_board)"
   ]
  },
  {
   "cell_type": "code",
   "execution_count": 109,
   "metadata": {},
   "outputs": [
    {
     "name": "stdout",
     "output_type": "stream",
     "text": [
      "False\n"
     ]
    }
   ],
   "source": [
    "def Check_Win(board, player):\n",
    "    mark = Get_Mark(player)\n",
    "    for row in range(ROWS):\n",
    "        if all(board[row][col] == mark for col in range(COLUMNS)):\n",
    "            return True\n",
    "            break\n",
    "    return False\n",
    "        \n",
    "print(Check_Win(this_board, 1))"
   ]
  },
  {
   "cell_type": "code",
   "execution_count": 110,
   "metadata": {},
   "outputs": [
    {
     "data": {
      "text/plain": [
       "False"
      ]
     },
     "execution_count": 110,
     "metadata": {},
     "output_type": "execute_result"
    }
   ],
   "source": [
    "def Check_Draw(board) -> bool:\n",
    "    # for row in range(ROWS):\n",
    "    #     for col in range(COLUMNS):\n",
    "    mark_1 = Get_Mark(1)\n",
    "    mark_2 = Get_Mark(2)\n",
    "    if all(board[row][col] in (mark_1, mark_2) for row in range(ROWS) for col in range(COLUMNS)):\n",
    "        return True\n",
    "    return False\n",
    "\n",
    "Check_Draw(this_board)"
   ]
  },
  {
   "cell_type": "code",
   "execution_count": 111,
   "metadata": {},
   "outputs": [],
   "source": [
    "def Undo_Mark(board: list[list[str]], column: int) -> list[list[str]]:\n",
    "    for row in reversed(range(ROWS)):\n",
    "        if board[row][column] != DEFAULT_MARK:\n",
    "            board[row][column] = DEFAULT_MARK\n",
    "            break"
   ]
  },
  {
   "cell_type": "code",
   "execution_count": 112,
   "metadata": {},
   "outputs": [
    {
     "name": "stdout",
     "output_type": "stream",
     "text": [
      "[['X', '-', '-', '-'], ['-', '-', '-', '-'], ['-', '-', '-', '-'], ['-', '-', '-', '-']]\n",
      "[['X', '-', '-', '-'], ['-', '-', '-', '-'], ['-', '-', '-', '-'], ['-', '-', '-', '-']]\n"
     ]
    },
    {
     "ename": "TypeError",
     "evalue": "minmax() missing 1 required positional argument: 'depth'",
     "output_type": "error",
     "traceback": [
      "\u001b[1;31m---------------------------------------------------------------------------\u001b[0m",
      "\u001b[1;31mTypeError\u001b[0m                                 Traceback (most recent call last)",
      "Cell \u001b[1;32mIn[112], line 28\u001b[0m\n\u001b[0;32m     26\u001b[0m \u001b[39mprint\u001b[39m(this_board)\n\u001b[0;32m     27\u001b[0m \u001b[39mprint\u001b[39m(mm)\n\u001b[1;32m---> 28\u001b[0m \u001b[39mprint\u001b[39m(minmax(mm, \u001b[39mFalse\u001b[39;49;00m))\n\u001b[0;32m     29\u001b[0m \u001b[39mprint\u001b[39m(this_board)\n\u001b[0;32m     30\u001b[0m \u001b[39mprint\u001b[39m(mm)\n",
      "\u001b[1;31mTypeError\u001b[0m: minmax() missing 1 required positional argument: 'depth'"
     ]
    }
   ],
   "source": [
    "def minmax(mm_board, is_Max_Turn, depth):\n",
    "\n",
    "    depth += 1\n",
    "    if depth > MAX_DEPTH:\n",
    "        return 0\n",
    "    # Check end of game\n",
    "    if Check_Win(mm_board, 1):\n",
    "        return 1\n",
    "    elif Check_Win(mm_board, 2):\n",
    "        return -1\n",
    "    elif Check_Draw(mm_board):\n",
    "        return 0\n",
    "\n",
    "    scores = []\n",
    "    for col in possible_moves(mm_board):\n",
    "        Set_Mark(mm_board, col, 1)\n",
    "        scores.append(minmax(mm_board, not is_Max_Turn, depth))\n",
    "        Undo_Mark(mm_board, col)\n",
    "\n",
    "    if is_Max_Turn:\n",
    "        return max(scores)\n",
    "    else:\n",
    "        return min(scores)\n",
    "    \n",
    "mm = this_board\n",
    "print(this_board)\n",
    "print(mm)\n",
    "print(minmax(mm, False, MAX_DEPTH))\n",
    "print(this_board)\n",
    "print(mm)"
   ]
  },
  {
   "cell_type": "code",
   "execution_count": null,
   "metadata": {},
   "outputs": [
    {
     "name": "stdout",
     "output_type": "stream",
     "text": [
      "[['X', '-', '-', '-'], ['X', '-', '-', '-'], ['X', '-', '-', '-'], ['-', '-', '-', '-']]\n",
      "[['X', '-', '-', '-'], ['X', '-', '-', '-'], ['X', '-', '-', '-'], ['X', '-', '-', '-']]\n"
     ]
    }
   ],
   "source": [
    "import math\n",
    "\n",
    "def best_move(board):\n",
    "    depth = 0\n",
    "    best_score = - math.inf\n",
    "    best_move = None\n",
    "    for column in possible_moves(board):\n",
    "        Set_Mark(board, column, 1)\n",
    "        score = minmax(board, False, depth)\n",
    "        Undo_Mark(board, column)\n",
    "        if score > best_score:\n",
    "            best_score = score\n",
    "            best_move = column\n",
    "    return best_move\n",
    "\n",
    "print(this_board)\n",
    "\n",
    "Set_Mark(this_board, best_move(this_board), 1)\n",
    "\n",
    "print(this_board)"
   ]
  }
 ],
 "metadata": {
  "kernelspec": {
   "display_name": "Python 3",
   "language": "python",
   "name": "python3"
  },
  "language_info": {
   "codemirror_mode": {
    "name": "ipython",
    "version": 3
   },
   "file_extension": ".py",
   "mimetype": "text/x-python",
   "name": "python",
   "nbconvert_exporter": "python",
   "pygments_lexer": "ipython3",
   "version": "3.11.2"
  },
  "orig_nbformat": 4
 },
 "nbformat": 4,
 "nbformat_minor": 2
}
